{
  "nbformat": 4,
  "nbformat_minor": 0,
  "metadata": {
    "coursera": {
      "course_slug": "introduction-tensorflow",
      "graded_item_id": "ml06H",
      "launcher_item_id": "hQF8A"
    },
    "kernelspec": {
      "display_name": "Python 3",
      "language": "python",
      "name": "python3"
    },
    "language_info": {
      "codemirror_mode": {
        "name": "ipython",
        "version": 3
      },
      "file_extension": ".py",
      "mimetype": "text/x-python",
      "name": "python",
      "nbconvert_exporter": "python",
      "pygments_lexer": "ipython3",
      "version": "3.6.8"
    },
    "colab": {
      "name": "Excercise-3-Question.ipynb",
      "provenance": [],
      "include_colab_link": true
    }
  },
  "cells": [
    {
      "cell_type": "markdown",
      "metadata": {
        "id": "view-in-github",
        "colab_type": "text"
      },
      "source": [
        "<a href=\"https://colab.research.google.com/github/Mrjay12/Mrjay12/blob/main/Excercise-3-HandWritting_Conv.ipynb\" target=\"_parent\"><img src=\"https://colab.research.google.com/assets/colab-badge.svg\" alt=\"Open In Colab\"/></a>"
      ]
    },
    {
      "cell_type": "markdown",
      "metadata": {
        "id": "iQjHqsmTAVLU"
      },
      "source": [
        "## Упражнение 3\n",
        "вы уже знаете, как улучшить Fashion MNIST, используя Convolutions. Теперь посмотрите, можете ли вы улучшить MNIST с точностью до 99,8% или более, используя только один сверточный слой и один MaxPooling 2D. Вам надо будет остановить процесс обучения, как только точность превысит это значение. Это должно произойти менее чем за 20 эпох, поэтому можно точно указать количество эпох для обучения, но ваше обучение должно закончиться, как только accuracy достигнет 99,8%. Если это не произойдет, то вам нужно будет изменить дизайн ваших слоев.\n",
        "\n",
        "Начало кода уже написано - вы должны закончить код\n",
        "\n",
        "Когда достигнута точность 99,8%, надо распечатать строку «достигнута точность 99,8%, поэтому обучение прервано!»"
      ]
    },
    {
      "cell_type": "code",
      "metadata": {
        "id": "NHKVudseU5Vk"
      },
      "source": [
        "import tensorflow as tf\n"
      ],
      "execution_count": 2,
      "outputs": []
    },
    {
      "cell_type": "code",
      "metadata": {
        "id": "tCtEvQtcU5Vr",
        "colab": {
          "base_uri": "https://localhost:8080/"
        },
        "outputId": "22976155-a2e4-4800-8f50-dfe2cad7af05"
      },
      "source": [
        "# Ваш код будет здесь\n",
        "mnist = tf.keras.datasets.mnist\n",
        "(training_images, training_labels), (test_images, test_labels) = mnist.load_data()\n",
        "# Ваш код закончится здесь\n",
        "training_images, test_images = training_images / 255.0, test_images / 255.0\n",
        "# Ваш код будет здесь\n",
        "\n",
        "training_images = training_images.reshape(training_images.shape[0], 28, 28, 1)\n",
        "test_images = test_images.reshape(test_images.shape[0], 28, 28, 1)\n",
        "\n",
        "# Ваш код закончится здесь\n",
        "\n",
        "model = tf.keras.models.Sequential([\n",
        "        # Ваш код будет здесь\n",
        "    tf.keras.layers.Conv2D(32, (3,3), activation='relu', input_shape=(28, 28, 1)),\n",
        "    tf.keras.layers.MaxPooling2D(2, 2),\n",
        "    tf.keras.layers.Flatten(),\n",
        "    tf.keras.layers.Dense(128, activation='relu'),\n",
        "    tf.keras.layers.Dense(10, activation='softmax')\n",
        "        # Ваш код закончится здесь\n",
        "])\n",
        "\n",
        "model.compile(optimizer='adam', loss='sparse_categorical_crossentropy', metrics=['accuracy'])\n",
        "# model fitting\n",
        "history = model.fit(\n",
        "    # Ваш код будет здесь\n",
        " training_images,\n",
        "    training_labels,\n",
        "    epochs=20,\n",
        "    callbacks=[tf.keras.callbacks.LambdaCallback(\n",
        "        on_epoch_end=lambda epoch, logs: logs if logs.get('accuracy') > 0.998 else print(\"\\nдостигнута точность 99.8%, поэтому обучение прервано!\"))\n",
        "    ]\n",
        ")\n",
        "    # Ваш код закончится здесь\n",
        "test_loss, test_acc = model.evaluate(test_images, test_labels)\n",
        "# model fitting\n",
        "print(history.epoch, history.history['accuracy'][-1])\n"
      ],
      "execution_count": 3,
      "outputs": [
        {
          "output_type": "stream",
          "name": "stdout",
          "text": [
            "Downloading data from https://storage.googleapis.com/tensorflow/tf-keras-datasets/mnist.npz\n",
            "11490434/11490434 [==============================] - 0s 0us/step\n",
            "Epoch 1/20\n",
            "1874/1875 [============================>.] - ETA: 0s - loss: 0.1465 - accuracy: 0.9567\n",
            "достигнута точность 99.8%, поэтому обучение прервано!\n",
            "1875/1875 [==============================] - 36s 19ms/step - loss: 0.1464 - accuracy: 0.9567\n",
            "Epoch 2/20\n",
            "1873/1875 [============================>.] - ETA: 0s - loss: 0.0501 - accuracy: 0.9855\n",
            "достигнута точность 99.8%, поэтому обучение прервано!\n",
            "1875/1875 [==============================] - 34s 18ms/step - loss: 0.0500 - accuracy: 0.9855\n",
            "Epoch 3/20\n",
            "1875/1875 [==============================] - ETA: 0s - loss: 0.0323 - accuracy: 0.9897\n",
            "достигнута точность 99.8%, поэтому обучение прервано!\n",
            "1875/1875 [==============================] - 35s 19ms/step - loss: 0.0323 - accuracy: 0.9897\n",
            "Epoch 4/20\n",
            "1873/1875 [============================>.] - ETA: 0s - loss: 0.0213 - accuracy: 0.9933\n",
            "достигнута точность 99.8%, поэтому обучение прервано!\n",
            "1875/1875 [==============================] - 35s 18ms/step - loss: 0.0213 - accuracy: 0.9933\n",
            "Epoch 5/20\n",
            "1875/1875 [==============================] - ETA: 0s - loss: 0.0143 - accuracy: 0.9957\n",
            "достигнута точность 99.8%, поэтому обучение прервано!\n",
            "1875/1875 [==============================] - 33s 18ms/step - loss: 0.0143 - accuracy: 0.9957\n",
            "Epoch 6/20\n",
            "1872/1875 [============================>.] - ETA: 0s - loss: 0.0098 - accuracy: 0.9968\n",
            "достигнута точность 99.8%, поэтому обучение прервано!\n",
            "1875/1875 [==============================] - 34s 18ms/step - loss: 0.0098 - accuracy: 0.9968\n",
            "Epoch 7/20\n",
            "1875/1875 [==============================] - ETA: 0s - loss: 0.0082 - accuracy: 0.9973\n",
            "достигнута точность 99.8%, поэтому обучение прервано!\n",
            "1875/1875 [==============================] - 34s 18ms/step - loss: 0.0082 - accuracy: 0.9973\n",
            "Epoch 8/20\n",
            "1875/1875 [==============================] - 38s 20ms/step - loss: 0.0059 - accuracy: 0.9980\n",
            "Epoch 9/20\n",
            "1875/1875 [==============================] - ETA: 0s - loss: 0.0056 - accuracy: 0.9979\n",
            "достигнута точность 99.8%, поэтому обучение прервано!\n",
            "1875/1875 [==============================] - 33s 18ms/step - loss: 0.0056 - accuracy: 0.9979\n",
            "Epoch 10/20\n",
            "1875/1875 [==============================] - 34s 18ms/step - loss: 0.0038 - accuracy: 0.9988\n",
            "Epoch 11/20\n",
            "1875/1875 [==============================] - 33s 18ms/step - loss: 0.0031 - accuracy: 0.9990\n",
            "Epoch 12/20\n",
            "1875/1875 [==============================] - 33s 18ms/step - loss: 0.0043 - accuracy: 0.9986\n",
            "Epoch 13/20\n",
            "1875/1875 [==============================] - 33s 18ms/step - loss: 0.0029 - accuracy: 0.9991\n",
            "Epoch 14/20\n",
            "1875/1875 [==============================] - 32s 17ms/step - loss: 0.0031 - accuracy: 0.9990\n",
            "Epoch 15/20\n",
            "1875/1875 [==============================] - 33s 18ms/step - loss: 0.0036 - accuracy: 0.9989\n",
            "Epoch 16/20\n",
            "1875/1875 [==============================] - 32s 17ms/step - loss: 0.0020 - accuracy: 0.9993\n",
            "Epoch 17/20\n",
            "1875/1875 [==============================] - 33s 18ms/step - loss: 0.0024 - accuracy: 0.9992\n",
            "Epoch 18/20\n",
            "1875/1875 [==============================] - 33s 18ms/step - loss: 0.0016 - accuracy: 0.9995\n",
            "Epoch 19/20\n",
            "1875/1875 [==============================] - 32s 17ms/step - loss: 0.0032 - accuracy: 0.9990\n",
            "Epoch 20/20\n",
            "1875/1875 [==============================] - 33s 18ms/step - loss: 0.0017 - accuracy: 0.9993\n",
            "313/313 [==============================] - 2s 5ms/step - loss: 0.0658 - accuracy: 0.9893\n",
            "[0, 1, 2, 3, 4, 5, 6, 7, 8, 9, 10, 11, 12, 13, 14, 15, 16, 17, 18, 19] 0.9993166923522949\n"
          ]
        }
      ]
    }
  ]
}